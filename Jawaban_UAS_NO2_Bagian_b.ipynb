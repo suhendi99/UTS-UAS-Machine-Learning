{
  "nbformat": 4,
  "nbformat_minor": 0,
  "metadata": {
    "colab": {
      "name": "UAS_NO2_Bagian b.ipynb",
      "provenance": [],
      "authorship_tag": "ABX9TyPFdtH47vzK00YYOEFKooZv",
      "include_colab_link": true
    },
    "kernelspec": {
      "name": "python3",
      "display_name": "Python 3"
    }
  },
  "cells": [
    {
      "cell_type": "markdown",
      "metadata": {
        "id": "view-in-github",
        "colab_type": "text"
      },
      "source": [
        "<a href=\"https://colab.research.google.com/github/suhendi99/UTS-UAS-Machine-Learning/blob/main/Jawaban_UAS_NO2_Bagian_b.ipynb\" target=\"_parent\"><img src=\"https://colab.research.google.com/assets/colab-badge.svg\" alt=\"Open In Colab\"/></a>"
      ]
    },
    {
      "cell_type": "code",
      "metadata": {
        "id": "ONBXfoDebSFB"
      },
      "source": [
        "#Dataset\r\n",
        "body =['Cold','Cold', 'Warm', 'Warm', 'Warm']\r\n",
        "gives =['No', 'Yes', 'No','No','No']\r\n",
        "fourlegged =['Yes',  'No', 'No', 'No','Yes']\r\n",
        "hibernate =['Yes',  'No', 'No', 'Yes','Yes']\r\n",
        "\r\n",
        "mamalia =['No', 'No','No','No', 'Yes']"
      ],
      "execution_count": 1,
      "outputs": []
    },
    {
      "cell_type": "code",
      "metadata": {
        "colab": {
          "base_uri": "https://localhost:8080/"
        },
        "id": "GkAZbWwacIm1",
        "outputId": "f3759a78-9179-4422-fc82-98b2e2285bd6"
      },
      "source": [
        "#Import LabelEncoder\r\n",
        "from sklearn import preprocessing\r\n",
        "#creating labelEncoder\r\n",
        "le = preprocessing.LabelEncoder()\r\n",
        "#Convert label string ke numbers\r\n",
        "body_encoded=le.fit_transform(body)\r\n",
        "print (body_encoded)"
      ],
      "execution_count": 2,
      "outputs": [
        {
          "output_type": "stream",
          "text": [
            "[0 0 1 1 1]\n"
          ],
          "name": "stdout"
        }
      ]
    },
    {
      "cell_type": "code",
      "metadata": {
        "colab": {
          "base_uri": "https://localhost:8080/"
        },
        "id": "IcFkl_JdcQlV",
        "outputId": "fdca7356-22fa-446d-8feb-2b10c08b0e19"
      },
      "source": [
        "#Import LabelEncoder\r\n",
        "from sklearn import preprocessing\r\n",
        "#creating labelEncoder\r\n",
        "label = preprocessing.LabelEncoder()\r\n",
        "#Convert label string ke numbers\r\n",
        "gives_encoded=label.fit_transform(gives)\r\n",
        "print (gives_encoded) \r\n",
        "\r\n",
        "fourlegged_encoded=label.fit_transform(fourlegged)\r\n",
        "print (fourlegged_encoded)\r\n",
        "\r\n",
        "hibernate_encoded=label.fit_transform(hibernate)\r\n",
        "print (hibernate_encoded)\r\n",
        "\r\n",
        "mamalia_encoded=label.fit_transform(mamalia)\r\n",
        "print (mamalia_encoded)"
      ],
      "execution_count": 3,
      "outputs": [
        {
          "output_type": "stream",
          "text": [
            "[0 1 0 0 0]\n",
            "[1 0 0 0 1]\n",
            "[1 0 0 1 1]\n",
            "[0 0 0 0 1]\n"
          ],
          "name": "stdout"
        }
      ]
    },
    {
      "cell_type": "code",
      "metadata": {
        "colab": {
          "base_uri": "https://localhost:8080/"
        },
        "id": "7CJInE3RcXeW",
        "outputId": "0a2c2762-91fc-404b-d213-860181b67a7d"
      },
      "source": [
        "print (\"body            :\",body_encoded)\r\n",
        "print (\"gives           :\",gives_encoded)\r\n",
        "print (\"fourlegged      :\",fourlegged_encoded)\r\n",
        "print (\"hibernate       :\",hibernate_encoded)\r\n",
        "print (\"mamalia         :\",mamalia_encoded)"
      ],
      "execution_count": 4,
      "outputs": [
        {
          "output_type": "stream",
          "text": [
            "body            : [0 0 1 1 1]\n",
            "gives           : [0 1 0 0 0]\n",
            "fourlegged      : [1 0 0 0 1]\n",
            "hibernate       : [1 0 0 1 1]\n",
            "mamalia         : [0 0 0 0 1]\n"
          ],
          "name": "stdout"
        }
      ]
    },
    {
      "cell_type": "code",
      "metadata": {
        "colab": {
          "base_uri": "https://localhost:8080/"
        },
        "id": "-lpODYcIccpF",
        "outputId": "84531fda-b08d-46ef-dbf8-4e11771cb1ba"
      },
      "source": [
        "#Combining fitur-fitur yang ada\r\n",
        "features=zip(body_encoded,gives_encoded,fourlegged_encoded,hibernate_encoded)\r\n",
        "features=list(features)\r\n",
        "print (tuple(features))"
      ],
      "execution_count": 5,
      "outputs": [
        {
          "output_type": "stream",
          "text": [
            "((0, 0, 1, 1), (0, 1, 0, 0), (1, 0, 0, 0), (1, 0, 0, 1), (1, 0, 1, 1))\n"
          ],
          "name": "stdout"
        }
      ]
    },
    {
      "cell_type": "code",
      "metadata": {
        "colab": {
          "base_uri": "https://localhost:8080/"
        },
        "id": "ZKtsn8-scjIR",
        "outputId": "43029641-6122-462e-e858-258b08a1ddb5"
      },
      "source": [
        "#Import Gaussian Naive Bayes model\r\n",
        "from sklearn.naive_bayes import GaussianNB\r\n",
        "\r\n",
        "#Panggil Gaussian Classifier\r\n",
        "model = GaussianNB()\r\n",
        "\r\n",
        "#Train model untuk data training\r\n",
        "model.fit(features,mamalia)\r\n",
        "#Model.fit(features,label.reshape(-1,1))\r\n",
        "\r\n",
        "#Peridiction Output\r\n",
        "predicted = model.predict([[1,1,0,0]]) #1 : warm, 1: Yes, 0: No , 0 : No\r\n",
        "print (\"Hasil Perdiksi:\", predicted)"
      ],
      "execution_count": 6,
      "outputs": [
        {
          "output_type": "stream",
          "text": [
            "Hasil Perdiksi: ['No']\n"
          ],
          "name": "stdout"
        }
      ]
    }
  ]
}